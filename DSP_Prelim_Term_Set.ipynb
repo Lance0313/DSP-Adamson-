{
  "nbformat": 4,
  "nbformat_minor": 0,
  "metadata": {
    "colab": {
      "provenance": [],
      "authorship_tag": "ABX9TyMHcb4UYYcap+2BAF/Rr6BO",
      "include_colab_link": true
    },
    "kernelspec": {
      "name": "python3",
      "display_name": "Python 3"
    },
    "language_info": {
      "name": "python"
    }
  },
  "cells": [
    {
      "cell_type": "markdown",
      "metadata": {
        "id": "view-in-github",
        "colab_type": "text"
      },
      "source": [
        "<a href=\"https://colab.research.google.com/github/Lance0313/DSP-Adamson-/blob/main/DSP_Prelim_Term_Set.ipynb\" target=\"_parent\"><img src=\"https://colab.research.google.com/assets/colab-badge.svg\" alt=\"Open In Colab\"/></a>"
      ]
    },
    {
      "cell_type": "markdown",
      "source": [
        "##Part 1"
      ],
      "metadata": {
        "id": "LVeqQLP2WFev"
      }
    },
    {
      "cell_type": "code",
      "execution_count": null,
      "metadata": {
        "id": "g3zIjQAhvIVY",
        "colab": {
          "base_uri": "https://localhost:8080/"
        },
        "outputId": "f2ca5dfd-7c17-4090-eb14-aafd222822bf"
      },
      "outputs": [
        {
          "output_type": "stream",
          "name": "stdout",
          "text": [
            "[[0.+0.70710678j 0.-0.70710678j]\n",
            " [0.-0.70710678j 0.-0.70710678j]]\n",
            "1.414213562373095\n"
          ]
        }
      ],
      "source": [
        "#1\n",
        "#𝐻 ⋅ Y\n",
        "\n",
        "import numpy as np\n",
        "import matplotlib.pyplot as mpt\n",
        "\n",
        "H = (1/np.sqrt(2)) * np.array([[1, 1], [1, -1]])\n",
        "Y = np.array([[0, -1j], [1j, 0]])\n",
        "O = np.array([[1, 0],[1, 1]])\n",
        "\n",
        "dot = np.dot(H,Y)\n",
        "mag = np.linalg.norm(dot)\n",
        "\n",
        "print(dot)\n",
        "print(mag)"
      ]
    },
    {
      "cell_type": "code",
      "source": [
        "#2\n",
        "#𝑌 ⋅ 𝐻\n",
        "\n",
        "import numpy as np\n",
        "import matplotlib.pyplot as mpt\n",
        "\n",
        "H = (1/np.sqrt(2)) * np.array([[1, 1], [1, -1]])\n",
        "Y = np.array([[0, -1j], [1j, 0]])\n",
        "O = np.array([[1, 0],[1, 1]])\n",
        "\n",
        "dot = np.dot(Y,H)\n",
        "mag = np.linalg.norm(dot)\n",
        "\n",
        "print(dot)\n",
        "print(mag)"
      ],
      "metadata": {
        "id": "_qCNzvto5lm_",
        "colab": {
          "base_uri": "https://localhost:8080/"
        },
        "outputId": "96f3064c-3017-437d-e666-d4fe25b31c46"
      },
      "execution_count": null,
      "outputs": [
        {
          "output_type": "stream",
          "name": "stdout",
          "text": [
            "[[0.-0.70710678j 0.+0.70710678j]\n",
            " [0.+0.70710678j 0.+0.70710678j]]\n",
            "1.414213562373095\n"
          ]
        }
      ]
    },
    {
      "cell_type": "code",
      "source": [
        "#3\n",
        "#𝐻 ⋅ O\n",
        "import numpy as np\n",
        "import matplotlib.pyplot as mpt\n",
        "\n",
        "H = (1/np.sqrt(2)) * np.array([[1, 1], [1, -1]])\n",
        "Y = np.array([[0, -1j], [1j, 0]])\n",
        "O = np.array([[1, 0],[1, 1]])\n",
        "\n",
        "dot = np.dot(H,H)\n",
        "mag = np.linalg.norm(dot)\n",
        "\n",
        "print(dot)\n",
        "print(mag)"
      ],
      "metadata": {
        "colab": {
          "base_uri": "https://localhost:8080/"
        },
        "id": "VcSjcrZBcyuq",
        "outputId": "f9d8f08e-a29e-4eba-b512-bad98df06d25"
      },
      "execution_count": null,
      "outputs": [
        {
          "output_type": "stream",
          "name": "stdout",
          "text": [
            "[[ 1.00000000e+00 -2.23711432e-17]\n",
            " [-2.23711432e-17  1.00000000e+00]]\n",
            "1.4142135623730947\n"
          ]
        }
      ]
    },
    {
      "cell_type": "code",
      "source": [
        "#4\n",
        "#𝑌 ⋅ 𝐻 ⋅ O\n",
        "import numpy as np\n",
        "import matplotlib.pyplot as mpt\n",
        "\n",
        "H = (1/np.sqrt(2)) * np.array([[1, 1], [1, -1]])\n",
        "Y = np.array([[0, -1j], [1j, 0]])\n",
        "O = np.array([[1, 0],[1, 1]])\n",
        "\n",
        "#one line of code method\n",
        "mag = np.linalg.norm(np.dot(O,(np.dot(H,Y))))\n",
        "#one line dot method\n",
        "YHO = np.dot((np.dot(Y,H)), O)\n",
        "maga = np.linalg.norm(YHO)\n",
        "#one by one method\n",
        "YH = np.dot(Y,H)\n",
        "HYO = np.dot(O,HY)\n",
        "HYO1 = np.dot(HY,O)\n",
        "magb = np.linalg.norm(HYO)\n",
        "\n",
        "\n",
        "\n",
        "print(\"Resultant Matrices\\n\")\n",
        "print(\"YHO:\\n\",YHO)\n",
        "print(\"HY:\\n\",HY)\n",
        "print(\"HYO:\\n\",HYO)\n",
        "print(\"HYO1:\\n\",HYO1)\n",
        "print(\"\\nMagnitude of Resultant Matrix\\n\")\n",
        "print(\"Magnitude using one line code: \",mag)\n",
        "print(\"Magnitude using one line dot method: \",maga)\n",
        "print(\"Magnitude using one by one method: \",magb)\n",
        "\n",
        "\n"
      ],
      "metadata": {
        "colab": {
          "base_uri": "https://localhost:8080/"
        },
        "id": "wwtj4zLZc0yp",
        "outputId": "e13d3375-a610-4845-eb73-de365f316e8c"
      },
      "execution_count": null,
      "outputs": [
        {
          "output_type": "stream",
          "name": "stdout",
          "text": [
            "Resultant Matrices\n",
            "\n",
            "YHO:\n",
            " [[0.+0.j         0.+0.70710678j]\n",
            " [0.+1.41421356j 0.+0.70710678j]]\n",
            "HY:\n",
            " [[0.+0.70710678j 0.-0.70710678j]\n",
            " [0.-0.70710678j 0.-0.70710678j]]\n",
            "HYO:\n",
            " [[0.+0.70710678j 0.-0.70710678j]\n",
            " [0.+0.j         0.-1.41421356j]]\n",
            "HYO1:\n",
            " [[0.+0.j         0.-0.70710678j]\n",
            " [0.-1.41421356j 0.-0.70710678j]]\n",
            "\n",
            "Magnitude of Resultant Matrix\n",
            "\n",
            "Magnitude using one line code:  1.7320508075688772\n",
            "Magnitude using one line dot method:  1.732050807568877\n",
            "Magnitude using one by one method:  1.7320508075688772\n"
          ]
        }
      ]
    },
    {
      "cell_type": "code",
      "source": [
        "#5\n",
        "#𝐻 ⋅ 𝑌 ⋅ 𝐻 ⋅ O\n",
        "import numpy as np\n",
        "import matplotlib.pyplot as mpt\n",
        "\n",
        "H = (1/np.sqrt(2)) * np.array([[1, 1], [1, -1]])\n",
        "Y = np.array([[0, -1j], [1j, 0]])\n",
        "O = np.array([[1, 0],[1, 1]])\n",
        "\n",
        "#one line method\n",
        "dota = np.dot(O,np.dot(H,np.dot(H,Y)))\n",
        "maga = np.linalg.norm(dota)\n",
        "#one by one method\n",
        "dot1 = np.dot(H,Y)\n",
        "dot2 = np.dot(dot1,H)\n",
        "dot3 = np.dot(dot2,O)\n",
        "mag = np.linalg.norm(dot3)\n",
        "\n",
        "\n",
        "print(dot1)\n",
        "print(\"B\")\n",
        "print(dot2)\n",
        "print(\"C\")\n",
        "print(dot3)\n",
        "print(mag)"
      ],
      "metadata": {
        "colab": {
          "base_uri": "https://localhost:8080/"
        },
        "id": "51dX7EZxc74B",
        "outputId": "cd78c949-0c80-494c-85c3-b6f5050213b8"
      },
      "execution_count": null,
      "outputs": [
        {
          "output_type": "stream",
          "name": "stdout",
          "text": [
            "[[0.+0.70710678j 0.-0.70710678j]\n",
            " [0.-0.70710678j 0.-0.70710678j]]\n",
            "B\n",
            "[[0.-2.23711432e-17j 0.+1.00000000e+00j]\n",
            " [0.-1.00000000e+00j 0.+2.23711432e-17j]]\n",
            "C\n",
            "[[0.+1.00000000e+00j 0.+1.00000000e+00j]\n",
            " [0.-1.00000000e+00j 0.+2.23711432e-17j]]\n",
            "1.732050807568877\n"
          ]
        }
      ]
    },
    {
      "cell_type": "markdown",
      "source": [
        "##Part 2"
      ],
      "metadata": {
        "id": "C7SWnzCj1NAA"
      }
    },
    {
      "cell_type": "code",
      "source": [
        "#1\n",
        "import numpy as np\n",
        "\n",
        "H = (1/np.sqrt(2)) * np.array([[1, 1], [1, -1]])\n",
        "\n",
        "det = np.linalg.det(H)\n",
        "\n",
        "print(\"Determinant of H is\", det)"
      ],
      "metadata": {
        "colab": {
          "base_uri": "https://localhost:8080/"
        },
        "id": "ROeYBs0X1Pyn",
        "outputId": "5637615e-bc84-47b2-d084-7cd7f709427f"
      },
      "execution_count": null,
      "outputs": [
        {
          "output_type": "stream",
          "name": "stdout",
          "text": [
            "Determinant of H is -0.9999999999999999\n"
          ]
        }
      ]
    },
    {
      "cell_type": "code",
      "source": [
        "#2\n",
        "import numpy as np\n",
        "\n",
        "Y = np.array([[0, -1j], [1j, 0]])\n",
        "\n",
        "det = np.linalg.det(Y)\n",
        "\n",
        "print(\"Determinant of Y is\", det)"
      ],
      "metadata": {
        "colab": {
          "base_uri": "https://localhost:8080/"
        },
        "id": "kVGh16Vb1gmG",
        "outputId": "c3ddebac-37e5-4592-c21f-f59765ce1dde"
      },
      "execution_count": null,
      "outputs": [
        {
          "output_type": "stream",
          "name": "stdout",
          "text": [
            "Determinant of H is (-1+0j)\n"
          ]
        }
      ]
    },
    {
      "cell_type": "markdown",
      "source": [
        "##Part 3"
      ],
      "metadata": {
        "id": "P6MN1OfACJ7C"
      }
    },
    {
      "cell_type": "code",
      "source": [
        "#1\n",
        "import numpy as np\n",
        "import matplotlib.pyplot as mpt\n",
        "\n",
        "A = np.array([[5, 0, 0], [0, 5, 0], [0, 0, 5]])\n",
        "B = np.array([[1, 0, 5], [2, 7, 6], [6, 4, 7]])\n",
        "\n",
        "det = np.linalg.det(np.dot(A, B))\n",
        "\n",
        "print(\"Determinant:\", det)\n",
        "if det != 0:\n",
        "    print(\"Determinant is linearly dependent.\")\n",
        "else:\n",
        "    print(\"Determinant is linearly independent.\")"
      ],
      "metadata": {
        "colab": {
          "base_uri": "https://localhost:8080/"
        },
        "id": "IRqdUblg1WEe",
        "outputId": "57e1365a-87a7-449e-d82c-e5ee05db39a1"
      },
      "execution_count": null,
      "outputs": [
        {
          "output_type": "stream",
          "name": "stdout",
          "text": [
            "Determinant: -18124.99999999999\n",
            "Determinant is linearly dependent.\n"
          ]
        }
      ]
    },
    {
      "cell_type": "code",
      "source": [
        "#2\n",
        "import numpy as np\n",
        "import matplotlib.pyplot as mpt\n",
        "\n",
        "A = np.array([[1, 2, 6], [3, 15, 4], [2, 10, 3]])\n",
        "B = np.array([[5, 2, 4], [6, 2, 4], [0, 1, 1]])\n",
        "\n",
        "det = np.linalg.det(np.dot(A, B))\n",
        "\n",
        "print(\"Determinant:\", det)\n",
        "if det != 0:\n",
        "    print(\"Determinant is linearly dependent.\")\n",
        "else:\n",
        "    print(\"Determinant is linearly independent.\")"
      ],
      "metadata": {
        "colab": {
          "base_uri": "https://localhost:8080/"
        },
        "id": "6BUgRa3-CLwj",
        "outputId": "8c6a197e-5318-4f1d-e75e-84ede93ef070"
      },
      "execution_count": null,
      "outputs": [
        {
          "output_type": "stream",
          "name": "stdout",
          "text": [
            "Determinant: 6.000000000001367\n",
            "Determinant is linearly dependent.\n"
          ]
        }
      ]
    },
    {
      "cell_type": "code",
      "source": [],
      "metadata": {
        "id": "1uHHhuD51ZxF"
      },
      "execution_count": null,
      "outputs": []
    }
  ]
}