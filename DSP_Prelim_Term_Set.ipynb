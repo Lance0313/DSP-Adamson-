{
  "nbformat": 4,
  "nbformat_minor": 0,
  "metadata": {
    "colab": {
      "provenance": [],
      "include_colab_link": true
    },
    "kernelspec": {
      "name": "python3",
      "display_name": "Python 3"
    },
    "language_info": {
      "name": "python"
    }
  },
  "cells": [
    {
      "cell_type": "markdown",
      "metadata": {
        "id": "view-in-github",
        "colab_type": "text"
      },
      "source": [
        "<a href=\"https://colab.research.google.com/github/Lance0313/DSP-Adamson-/blob/main/DSP_Prelim_Term_Set.ipynb\" target=\"_parent\"><img src=\"https://colab.research.google.com/assets/colab-badge.svg\" alt=\"Open In Colab\"/></a>"
      ]
    },
    {
      "cell_type": "markdown",
      "source": [
        "#Lance G. Del Rosario\n",
        "##202013772"
      ],
      "metadata": {
        "id": "fL1d_o3hJ-NW"
      }
    },
    {
      "cell_type": "markdown",
      "source": [
        "##Part 1"
      ],
      "metadata": {
        "id": "LVeqQLP2WFev"
      }
    },
    {
      "cell_type": "code",
      "execution_count": 24,
      "metadata": {
        "id": "g3zIjQAhvIVY",
        "colab": {
          "base_uri": "https://localhost:8080/",
          "height": 401
        },
        "outputId": "24641f41-3ac2-4791-f2be-b019da4745af"
      },
      "outputs": [
        {
          "output_type": "stream",
          "name": "stdout",
          "text": [
            "Resultant Matrix\n",
            "\n",
            "[[0.+0.70710678j 0.-0.70710678j]\n",
            " [0.-0.70710678j 0.-0.70710678j]]\n",
            "\n",
            "Magnitude using one line approach:\n",
            "1.414213562373095\n",
            "Magnitude using one by one approach:\n",
            "1.414213562373095\n"
          ]
        },
        {
          "output_type": "error",
          "ename": "TypeError",
          "evalue": "ignored",
          "traceback": [
            "\u001b[0;31m---------------------------------------------------------------------------\u001b[0m",
            "\u001b[0;31mTypeError\u001b[0m                                 Traceback (most recent call last)",
            "\u001b[0;32m<ipython-input-24-1567cc0d8903>\u001b[0m in \u001b[0;36m<cell line: 24>\u001b[0;34m()\u001b[0m\n\u001b[1;32m     22\u001b[0m \u001b[0mprint\u001b[0m\u001b[0;34m(\u001b[0m\u001b[0mmaga\u001b[0m\u001b[0;34m)\u001b[0m\u001b[0;34m\u001b[0m\u001b[0;34m\u001b[0m\u001b[0m\n\u001b[1;32m     23\u001b[0m \u001b[0;34m\u001b[0m\u001b[0m\n\u001b[0;32m---> 24\u001b[0;31m \u001b[0mangle\u001b[0m \u001b[0;34m=\u001b[0m \u001b[0mnp\u001b[0m\u001b[0;34m.\u001b[0m\u001b[0marctan2\u001b[0m\u001b[0;34m(\u001b[0m\u001b[0mdot\u001b[0m\u001b[0;34m[\u001b[0m\u001b[0;36m1\u001b[0m\u001b[0;34m,\u001b[0m\u001b[0;36m0\u001b[0m\u001b[0;34m]\u001b[0m\u001b[0;34m,\u001b[0m\u001b[0mdot\u001b[0m\u001b[0;34m[\u001b[0m\u001b[0;36m0\u001b[0m\u001b[0;34m,\u001b[0m\u001b[0;36m0\u001b[0m\u001b[0;34m]\u001b[0m\u001b[0;34m)\u001b[0m\u001b[0;34m\u001b[0m\u001b[0;34m\u001b[0m\u001b[0m\n\u001b[0m\u001b[1;32m     25\u001b[0m \u001b[0;34m\u001b[0m\u001b[0m\n\u001b[1;32m     26\u001b[0m \u001b[0mprint\u001b[0m\u001b[0;34m(\u001b[0m\u001b[0mangle\u001b[0m\u001b[0;34m)\u001b[0m\u001b[0;34m\u001b[0m\u001b[0;34m\u001b[0m\u001b[0m\n",
            "\u001b[0;31mTypeError\u001b[0m: ufunc 'arctan2' not supported for the input types, and the inputs could not be safely coerced to any supported types according to the casting rule ''safe''"
          ]
        }
      ],
      "source": [
        "#1\n",
        "#𝐻 ⋅ Y\n",
        "\n",
        "import numpy as np\n",
        "import matplotlib.pyplot as mpt\n",
        "\n",
        "H = (1/np.sqrt(2)) * np.array([[1, 1], [1, -1]])\n",
        "Y = np.array([[0, -1j], [1j, 0]])\n",
        "O = np.array([[1, 0],[1, 1]])\n",
        "\n",
        "#one line code approach\n",
        "mag = np.linalg.norm(np.dot(H,Y))\n",
        "#one by one approach\n",
        "dot = np.dot(H,Y)\n",
        "maga = np.linalg.norm(dot)\n",
        "\n",
        "print(\"Resultant Matrix\\n\")\n",
        "print(dot)\n",
        "print(\"\\nMagnitude using one line approach:\")\n",
        "print(mag)\n",
        "print(\"Magnitude using one by one approach:\")\n",
        "print(maga)\n",
        "\n",
        "angle = np.arctan2(dot[1,0],dot[0,0])\n",
        "\n",
        "print(angle)"
      ]
    },
    {
      "cell_type": "code",
      "source": [
        "#2\n",
        "#𝑌 ⋅ 𝐻\n",
        "\n",
        "import numpy as np\n",
        "import matplotlib.pyplot as mpt\n",
        "\n",
        "H = (1/np.sqrt(2)) * np.array([[1, 1], [1, -1]])\n",
        "Y = np.array([[0, -1j], [1j, 0]])\n",
        "O = np.array([[1, 0],[1, 1]])\n",
        "\n",
        "#one line code approach\n",
        "mag = np.linalg.norm(np.dot(Y,H))\n",
        "#one by one approach\n",
        "dot = np.dot(Y,H)\n",
        "maga = np.linalg.norm(dot)\n",
        "\n",
        "print(\"Resultant Matrix\\n\")\n",
        "print(dot)\n",
        "print(\"\\nMagnitude using one line approach:\")\n",
        "print(mag)\n",
        "print(\"Magnitude using one by one approach:\")\n",
        "print(maga)"
      ],
      "metadata": {
        "id": "_qCNzvto5lm_",
        "colab": {
          "base_uri": "https://localhost:8080/"
        },
        "outputId": "c4f5066e-e5bb-4470-8c30-d51fd3b3a873"
      },
      "execution_count": 17,
      "outputs": [
        {
          "output_type": "stream",
          "name": "stdout",
          "text": [
            "Resultant Matrix\n",
            "\n",
            "[[0.-0.70710678j 0.+0.70710678j]\n",
            " [0.+0.70710678j 0.+0.70710678j]]\n",
            "\n",
            "Magnitude using one line approach:\n",
            "1.414213562373095\n",
            "Magnitude using one by one approach:\n",
            "1.414213562373095\n"
          ]
        }
      ]
    },
    {
      "cell_type": "code",
      "source": [
        "#3\n",
        "#𝐻 ⋅ O\n",
        "import numpy as np\n",
        "import matplotlib.pyplot as mpt\n",
        "\n",
        "H = (1/np.sqrt(2)) * np.array([[1, 1], [1, -1]])\n",
        "Y = np.array([[0, -1j], [1j, 0]])\n",
        "O = np.array([[1, 0],[1, 1]])\n",
        "\n",
        "#one line approach\n",
        "mag = np.linalg.norm(np.dot(H,H))\n",
        "#one by one approach\n",
        "dot = np.dot(H,H)\n",
        "maga = np.linalg.norm(dot)\n",
        "\n",
        "print(\"Resultant Matrix: \\n\")\n",
        "print(dot)\n",
        "print(\"\\nMagnitude using one line approach: \")\n",
        "print(mag)\n",
        "print(\"Magnitude: \")\n",
        "print(maga)"
      ],
      "metadata": {
        "colab": {
          "base_uri": "https://localhost:8080/"
        },
        "id": "VcSjcrZBcyuq",
        "outputId": "f5763a8d-95c8-4789-aa05-0597a419cb6d"
      },
      "execution_count": 13,
      "outputs": [
        {
          "output_type": "stream",
          "name": "stdout",
          "text": [
            "Resultant Matrix: \n",
            "\n",
            "[[ 1.00000000e+00 -2.23711432e-17]\n",
            " [-2.23711432e-17  1.00000000e+00]]\n",
            "\n",
            "Magnitude using one line approach: \n",
            "1.4142135623730947\n",
            "Magnitude: \n",
            "1.4142135623730947\n"
          ]
        }
      ]
    },
    {
      "cell_type": "code",
      "source": [
        "#4\n",
        "#𝑌 ⋅ 𝐻 ⋅ O\n",
        "import numpy as np\n",
        "import matplotlib.pyplot as mpt\n",
        "\n",
        "H = (1/np.sqrt(2)) * np.array([[1, 1], [1, -1]])\n",
        "Y = np.array([[0, -1j], [1j, 0]])\n",
        "O = np.array([[1, 0],[1, 1]])\n",
        "\n",
        "#one line of code approach\n",
        "mag = np.linalg.norm(np.dot(O,(np.dot(H,Y))))\n",
        "#one line dot approach\n",
        "YHO = np.dot((np.dot(Y,H)), O)\n",
        "maga = np.linalg.norm(YHO)\n",
        "#one by one approach\n",
        "HY = np.dot(Y,H)\n",
        "HYO = np.dot(O,HY)\n",
        "magb = np.linalg.norm(HYO)\n",
        "\n",
        "\n",
        "\n",
        "print(\"Resultant Matrices\\n\")\n",
        "print(\"YHO(One-Line-Dot-approach):\\n\",YHO)\n",
        "print(\"HY:\\n\",HY)\n",
        "print(\"HYO:\\n\",HYO)\n",
        "print(\"\\nMagnitude of Resultant Matrix\\n\")\n",
        "print(\"Magnitude using one line code approach: \",mag)\n",
        "print(\"Magnitude using one line dot approach: \",maga)\n",
        "print(\"Magnitude using one by one approach: \",magb)\n",
        "\n",
        "\n"
      ],
      "metadata": {
        "colab": {
          "base_uri": "https://localhost:8080/"
        },
        "id": "wwtj4zLZc0yp",
        "outputId": "25a7445d-7873-4221-8b53-c48a5cd08fe4"
      },
      "execution_count": 7,
      "outputs": [
        {
          "output_type": "stream",
          "name": "stdout",
          "text": [
            "Resultant Matrices\n",
            "\n",
            "YHO(One-Line-Dot-Method):\n",
            " [[0.+0.j         0.+0.70710678j]\n",
            " [0.+1.41421356j 0.+0.70710678j]]\n",
            "HY:\n",
            " [[0.-0.70710678j 0.+0.70710678j]\n",
            " [0.+0.70710678j 0.+0.70710678j]]\n",
            "HYO:\n",
            " [[0.-0.70710678j 0.+0.70710678j]\n",
            " [0.+0.j         0.+1.41421356j]]\n",
            "\n",
            "Magnitude of Resultant Matrix\n",
            "\n",
            "Magnitude using one line code:  1.7320508075688772\n",
            "Magnitude using one line dot method:  1.732050807568877\n",
            "Magnitude using one by one method:  1.7320508075688772\n"
          ]
        }
      ]
    },
    {
      "cell_type": "code",
      "source": [
        "#5\n",
        "#𝐻 ⋅ 𝑌 ⋅ 𝐻 ⋅ O\n",
        "import numpy as np\n",
        "import matplotlib.pyplot as mpt\n",
        "\n",
        "H = (1/np.sqrt(2)) * np.array([[1, 1], [1, -1]])\n",
        "Y = np.array([[0, -1j], [1j, 0]])\n",
        "O = np.array([[1, 0],[1, 1]])\n",
        "\n",
        "#one line approach\n",
        "mag = np.linalg.norm(np.dot(O,np.dot(H,np.dot(H,Y))))\n",
        "#one by one approach\n",
        "dot1 = np.dot(H,Y)\n",
        "dot2 = np.dot(dot1,H)\n",
        "dot3 = np.dot(dot2,O)\n",
        "maga = np.linalg.norm(dot3)\n",
        "\n",
        "print(\"Resultant Matrices\\n\")\n",
        "print(\"HY:\\n\",dot1)\n",
        "print(\"HY:\\n\",dot2)\n",
        "print(\"HY:\\n\",dot3)\n",
        "print(\"\\nMagnitude using one line code approach: \", mag)\n",
        "print(\"Magnitude using one by one approach: \", maga)"
      ],
      "metadata": {
        "colab": {
          "base_uri": "https://localhost:8080/"
        },
        "id": "51dX7EZxc74B",
        "outputId": "c4d4cc40-5a6d-4ee1-ba7e-471a78b49c40"
      },
      "execution_count": 21,
      "outputs": [
        {
          "output_type": "stream",
          "name": "stdout",
          "text": [
            "Resultant Matrices\n",
            "\n",
            "HY:\n",
            " [[0.+0.70710678j 0.-0.70710678j]\n",
            " [0.-0.70710678j 0.-0.70710678j]]\n",
            "HY:\n",
            " [[0.-2.23711432e-17j 0.+1.00000000e+00j]\n",
            " [0.-1.00000000e+00j 0.+2.23711432e-17j]]\n",
            "HY:\n",
            " [[0.+1.00000000e+00j 0.+1.00000000e+00j]\n",
            " [0.-1.00000000e+00j 0.+2.23711432e-17j]]\n",
            "\n",
            "Magnitude using one line code approach:  1.732050807568877\n",
            "Magnitude using one by one approach:  1.732050807568877\n"
          ]
        }
      ]
    },
    {
      "cell_type": "markdown",
      "source": [
        "##Part 2"
      ],
      "metadata": {
        "id": "C7SWnzCj1NAA"
      }
    },
    {
      "cell_type": "code",
      "source": [
        "#1\n",
        "import numpy as np\n",
        "\n",
        "H = (1/np.sqrt(2)) * np.array([[1, 1], [1, -1]])\n",
        "\n",
        "det = np.linalg.det(H)\n",
        "\n",
        "print(\"Determinant of H is\", det)"
      ],
      "metadata": {
        "colab": {
          "base_uri": "https://localhost:8080/"
        },
        "id": "ROeYBs0X1Pyn",
        "outputId": "5637615e-bc84-47b2-d084-7cd7f709427f"
      },
      "execution_count": null,
      "outputs": [
        {
          "output_type": "stream",
          "name": "stdout",
          "text": [
            "Determinant of H is -0.9999999999999999\n"
          ]
        }
      ]
    },
    {
      "cell_type": "code",
      "source": [
        "#2\n",
        "import numpy as np\n",
        "\n",
        "Y = np.array([[0, -1j], [1j, 0]])\n",
        "\n",
        "det = np.linalg.det(Y)\n",
        "\n",
        "print(\"Determinant of Y is\", det)"
      ],
      "metadata": {
        "colab": {
          "base_uri": "https://localhost:8080/"
        },
        "id": "kVGh16Vb1gmG",
        "outputId": "c3ddebac-37e5-4592-c21f-f59765ce1dde"
      },
      "execution_count": null,
      "outputs": [
        {
          "output_type": "stream",
          "name": "stdout",
          "text": [
            "Determinant of H is (-1+0j)\n"
          ]
        }
      ]
    },
    {
      "cell_type": "markdown",
      "source": [
        "##Part 3"
      ],
      "metadata": {
        "id": "P6MN1OfACJ7C"
      }
    },
    {
      "cell_type": "code",
      "source": [
        "#1\n",
        "import numpy as np\n",
        "import matplotlib.pyplot as mpt\n",
        "\n",
        "A = np.array([[5, 0, 0], [0, 5, 0], [0, 0, 5]])\n",
        "B = np.array([[1, 0, 5], [2, 7, 6], [6, 4, 7]])\n",
        "\n",
        "det = np.linalg.det(np.dot(A, B))\n",
        "\n",
        "print(\"Determinant:\", det)\n",
        "if det != 0:\n",
        "    print(\"Determinant is linearly dependent.\")\n",
        "else:\n",
        "    print(\"Determinant is linearly independent.\")"
      ],
      "metadata": {
        "colab": {
          "base_uri": "https://localhost:8080/"
        },
        "id": "IRqdUblg1WEe",
        "outputId": "57e1365a-87a7-449e-d82c-e5ee05db39a1"
      },
      "execution_count": null,
      "outputs": [
        {
          "output_type": "stream",
          "name": "stdout",
          "text": [
            "Determinant: -18124.99999999999\n",
            "Determinant is linearly dependent.\n"
          ]
        }
      ]
    },
    {
      "cell_type": "code",
      "source": [
        "#2\n",
        "import numpy as np\n",
        "import matplotlib.pyplot as mpt\n",
        "\n",
        "A = np.array([[1, 2, 6], [3, 15, 4], [2, 10, 3]])\n",
        "B = np.array([[5, 2, 4], [6, 2, 4], [0, 1, 1]])\n",
        "\n",
        "det = np.linalg.det(np.dot(A, B))\n",
        "\n",
        "print(\"Determinant:\", det)\n",
        "if det != 0:\n",
        "    print(\"Determinant is linearly dependent.\")\n",
        "else:\n",
        "    print(\"Determinant is linearly independent.\")"
      ],
      "metadata": {
        "colab": {
          "base_uri": "https://localhost:8080/"
        },
        "id": "6BUgRa3-CLwj",
        "outputId": "8c6a197e-5318-4f1d-e75e-84ede93ef070"
      },
      "execution_count": null,
      "outputs": [
        {
          "output_type": "stream",
          "name": "stdout",
          "text": [
            "Determinant: 6.000000000001367\n",
            "Determinant is linearly dependent.\n"
          ]
        }
      ]
    },
    {
      "cell_type": "markdown",
      "source": [
        "##Part 4"
      ],
      "metadata": {
        "id": "G7cbuu1H7fqB"
      }
    },
    {
      "cell_type": "code",
      "source": [
        "#1\n",
        "import numpy as np\n",
        "import matplotlib.pyplot as mpt\n",
        "\n",
        "flg, ax = mpt.subplots(figsize=(5,5))\n",
        "\n",
        "np.random.seed(200)\n",
        "\n",
        "G = [5,3,0,-3,-5]\n",
        "T = [0, np.pi/4, np.pi/2, (3*np.pi)/4, np.pi]\n",
        "\n",
        "mpt.plot(T, G, 'bo-')\n",
        "\n",
        "mpt.xlim(-1,4)\n",
        "\n",
        "mpt.ylim(-6,7)\n",
        "\n",
        "mpt.xlabel('T')\n",
        "\n",
        "mpt.ylabel('G')\n",
        "\n",
        "mpt.grid()\n",
        "\n",
        "for i, txt in enumerate(zip(T, G)):\n",
        "    label = f\"({txt[0]:.2f} {txt[1]:.2f})\"\n",
        "    ax.annotate(label, (T[i], G[i]), textcoords=\"offset points\", xytext=(20, 15), ha='center')\n",
        "\n",
        "mpt.show()"
      ],
      "metadata": {
        "id": "1uHHhuD51ZxF",
        "outputId": "44e95742-c82d-4baf-8fbb-f11926ea3d22",
        "colab": {
          "base_uri": "https://localhost:8080/",
          "height": 465
        }
      },
      "execution_count": 25,
      "outputs": [
        {
          "output_type": "display_data",
          "data": {
            "text/plain": [
              "<Figure size 500x500 with 1 Axes>"
            ],
            "image/png": "[encoded data removed]"
          },
          "metadata": {}
        }
      ]
    }
  ]
}