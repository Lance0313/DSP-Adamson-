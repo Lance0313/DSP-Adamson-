{
  "nbformat": 4,
  "nbformat_minor": 0,
  "metadata": {
    "colab": {
      "provenance": [],
      "authorship_tag": "ABX9TyNP/4QGhFz4pIjP2u5jbHN9",
      "include_colab_link": true
    },
    "kernelspec": {
      "name": "python3",
      "display_name": "Python 3"
    },
    "language_info": {
      "name": "python"
    }
  },
  "cells": [
    {
      "cell_type": "markdown",
      "metadata": {
        "id": "view-in-github",
        "colab_type": "text"
      },
      "source": [
        "<a href=\"https://colab.research.google.com/github/Lance0313/DSP-Adamson-/blob/main/Midterm_Problem_Set_1.ipynb\" target=\"_parent\"><img src=\"https://colab.research.google.com/assets/colab-badge.svg\" alt=\"Open In Colab\"/></a>"
      ]
    },
    {
      "cell_type": "code",
      "source": [
        "import matplotlib.pyplot as plt\n",
        "import numpy as np\n",
        "\n",
        "z = np.array([1 - 5j, 3 + 2j, -7 + 1j, -1.6j])\n",
        "\n",
        "x = z.real\n",
        "y = z.imag\n",
        "\n",
        "plt.plot(x, y, '-.g*')\n",
        "plt.ylabel('Y')\n",
        "plt.xlabel('X')\n",
        "plt.show()"
      ],
      "metadata": {
        "id": "w3drlllHCcOH"
      },
      "execution_count": null,
      "outputs": []
    },
    {
      "cell_type": "code",
      "source": [
        "import matplotlib.pyplot as plt\n",
        "import numpy as np\n",
        "\n",
        "z1 = 1 - 5j\n",
        "z2 = 3 + 2j\n",
        "z3 = -7 + 1j\n",
        "z4 = -1.6j\n",
        "z5 = z1 * z1.conjugate()\n",
        "z6 = z2 * (z1 - z3).conjugate()\n",
        "z7 = z4 / z1\n",
        "z8 = (z4 / z2)* (z1 + z4)\n",
        "z9 = z1 / z3 + (2*z4)/3\n",
        "\n",
        "z = np.array([z5, z6, z7, z8, z9])\n",
        "\n",
        "x = data.real\n",
        "y = data.imag\n",
        "\n",
        "plt.plot(x, y, '-.g*')\n",
        "plt.ylabel('Y')\n",
        "plt.xlabel('X')\n",
        "plt.show()"
      ],
      "metadata": {
        "id": "G0vE7mpVCfkl"
      },
      "execution_count": null,
      "outputs": []
    },
    {
      "cell_type": "code",
      "execution_count": null,
      "metadata": {
        "colab": {
          "base_uri": "https://localhost:8080/"
        },
        "id": "PsqWdh4SdiZ7",
        "outputId": "38d772ca-295d-41a4-ca13-5141f326014f"
      },
      "outputs": [
        {
          "output_type": "stream",
          "name": "stdout",
          "text": [
            "z1\n",
            "\n",
            "Magnitude: 5.1\n",
            "Phase: -1.373400766945016\n",
            "\n",
            "z2\n",
            "\n",
            "Magnitude: 3.61\n",
            "Phase: -1.373400766945016\n",
            "\n",
            "z3\n",
            "\n",
            "Magnitude: 7.07\n",
            "Phase: -1.373400766945016\n",
            "\n",
            "z4\n",
            "\n",
            "Magnitude: 1.6\n",
            "Phase: -1.373400766945016\n",
            "\n",
            "z5\n",
            "\n",
            "Magnitude: 26.0\n",
            "Phase: -1.373400766945016\n",
            "\n",
            "z6\n",
            "\n",
            "Magnitude: 36.06\n",
            "Phase: -1.373400766945016\n",
            "\n",
            "z7\n",
            "\n",
            "Magnitude: 0.31\n",
            "Phase: -11\n",
            "\n",
            "z8\n",
            "\n",
            "Magnitude: 2.96\n",
            "Phase: -1.373400766945016\n",
            "\n",
            "z9\n",
            "\n",
            "Magnitude: 0.46\n",
            "Phase: -1.373400766945016\n"
          ]
        }
      ],
      "source": [
        "\n",
        "import numpy as np\n",
        "import cmath\n",
        "\n",
        "z1 = 1 - 5j\n",
        "z2 = 3 + 2j\n",
        "z3 = -7 + 1j\n",
        "z4 = -1.6j\n",
        "z5 = z1 * z1.conjugate()\n",
        "z6 = z2 * (z1 - z3).conjugate()\n",
        "z7 = z4 / z1\n",
        "z8 = (z4 / z2)* (z1 + z4)\n",
        "z9 = z1 / z3 + (2*z4)/3\n",
        "\n",
        "𝑀𝑧1 = round(np.abs (z1),2)\n",
        "𝜙𝑧1 = cmath.phase(z1)\n",
        "𝑀𝑧2 = round(np.abs (z2),2)\n",
        "𝜙𝑧2 = cmath.phase(z1)\n",
        "𝑀𝑧3 = round(np.abs (z3),2)\n",
        "𝜙𝑧3 = cmath.phase(z1)\n",
        "𝑀𝑧4 = round(np.abs (z4),2)\n",
        "𝜙𝑧4 = cmath.phase(z1)\n",
        "𝑀𝑧5 = round(np.abs (z5),2)\n",
        "𝜙𝑧5 = cmath.phase(z1)\n",
        "𝑀𝑧6 = round(np.abs (z6),2)\n",
        "𝜙𝑧6 = cmath.phase(z1)\n",
        "𝑀𝑧7 = round(np.abs (z7),2)\n",
        "𝜙𝑧7 = round(np.angle (z7, deg=True))\n",
        "𝑀𝑧8 = round(np.abs (z8),2)\n",
        "𝜙𝑧8 = cmath.phase(z1)\n",
        "𝑀𝑧9 = round(np.abs (z9),2)\n",
        "𝜙𝑧9 = cmath.phase(z1)\n",
        "\n",
        "print(\"z1\\n\")\n",
        "print(\"Magnitude:\", 𝑀𝑧1)\n",
        "print(\"Phase:\", 𝜙𝑧1)\n",
        "\n",
        "print(\"\\nz2\\n\")\n",
        "print(\"Magnitude:\", 𝑀𝑧2)\n",
        "print(\"Phase:\", 𝜙𝑧2)\n",
        "\n",
        "print(\"\\nz3\\n\")\n",
        "print(\"Magnitude:\", 𝑀𝑧3)\n",
        "print(\"Phase:\", 𝜙𝑧3)\n",
        "\n",
        "print(\"\\nz4\\n\")\n",
        "print(\"Magnitude:\", 𝑀𝑧4)\n",
        "print(\"Phase:\", 𝜙𝑧4)\n",
        "\n",
        "print(\"\\nz5\\n\")\n",
        "print(\"Magnitude:\", 𝑀𝑧5)\n",
        "print(\"Phase:\", 𝜙𝑧5)\n",
        "\n",
        "print(\"\\nz6\\n\")\n",
        "print(\"Magnitude:\", 𝑀𝑧6)\n",
        "print(\"Phase:\", 𝜙𝑧6)\n",
        "\n",
        "print(\"\\nz7\\n\")\n",
        "print(\"Magnitude:\", 𝑀𝑧7)\n",
        "print(\"Phase:\", 𝜙𝑧7)\n",
        "\n",
        "print(\"\\nz8\\n\")\n",
        "print(\"Magnitude:\", 𝑀𝑧8)\n",
        "print(\"Phase:\", 𝜙𝑧8)\n",
        "\n",
        "print(\"\\nz9\\n\")\n",
        "print(\"Magnitude:\", 𝑀𝑧9)\n",
        "print(\"Phase:\", 𝜙𝑧9)"
      ]
    }
  ]
}